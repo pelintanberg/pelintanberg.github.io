{
 "cells": [
  {
   "cell_type": "markdown",
   "source": [
    "# Talks markdown generator for academicpages\n",
    "\n",
    "Takes a TSV of talks with metadata and converts them for use with [academicpages.github.io](academicpages.github.io). This is an interactive Jupyter notebook ([see more info here](http://jupyter-notebook-beginner-guide.readthedocs.io/en/latest/what_is_jupyter.html)). The core python code is also in `talks.py`. Run either from the `markdown_generator` folder after replacing `talks.tsv` with one containing your data.\n",
    "\n",
    "TODO: Make this work with BibTex and other databases, rather than Stuart's non-standard TSV format and citation style."
   ],
   "metadata": {
    "deletable": true,
    "editable": true
   }
  },
  {
   "cell_type": "code",
   "execution_count": 1,
   "source": [
    "import pandas as pd\n",
    "import os"
   ],
   "outputs": [],
   "metadata": {
    "collapsed": false,
    "deletable": true,
    "editable": true
   }
  },
  {
   "cell_type": "markdown",
   "source": [
    "## Data format\n",
    "\n",
    "The TSV needs to have the following columns: title, type, url_slug, venue, date, location, talk_url, description, with a header at the top. Many of these fields can be blank, but the columns must be in the TSV.\n",
    "\n",
    "- Fields that cannot be blank: `title`, `url_slug`, `date`. All else can be blank. `type` defaults to \"Talk\" \n",
    "- `date` must be formatted as YYYY-MM-DD.\n",
    "- `url_slug` will be the descriptive part of the .md file and the permalink URL for the page about the paper. \n",
    "    - The .md file will be `YYYY-MM-DD-[url_slug].md` and the permalink will be `https://[yourdomain]/talks/YYYY-MM-DD-[url_slug]`\n",
    "    - The combination of `url_slug` and `date` must be unique, as it will be the basis for your filenames\n",
    "\n",
    "This is how the raw file looks (it doesn't look pretty, use a spreadsheet or other program to edit and create)."
   ],
   "metadata": {}
  },
  {
   "cell_type": "code",
   "execution_count": 2,
   "source": [
    "!cat talks.tsv"
   ],
   "outputs": [
    {
     "output_type": "stream",
     "name": "stdout",
     "text": [
      "\n",
      "\n",
      "Assessing Waterloo�s first undergraduate course on mental health literacy: Did students� attitudes change over time?\tTalk\t2020-UWSMHR\tUniversity of Waterloo\t2020-11-5\t\"Waterloo, ON\"\thttps://web.archive.org/web/20210411054156/https://uwaterloo.ca/mental-health-wellness/cosmh-conference\t\"Does completion of a course on MHL have an effect on students� MHL-related attitudes, help-seeking intent, or perceived barriers to care? In a pre-post design, this study suggests that a course dedicated to MHL can have a significant, positive impact of several aspects of MHL in students.  Further, our findings support AHS�s commitment to offering AHS 105 to all students on campus in future terms.\"\t\"Purpose: In Winter 2020, the University of Waterloo launched its first undergraduate course on Mental Health Literacy (MHL). AHS 105: Mental Health Literacy was offered through the Faculty of Applied Health Sciences and was available to undergraduate students in all six Faculties. With ethics approval, we conducted a pre-post study to address the question �Does completion of a course on MHL have an effect on students� MHL-related attitudes, help-seeking intent, or perceived barriers to care?� \n",
      "Methods: At the beginning of the course, all students in AHS 105 (N = 106) were invited to participate in the study which involved completing demographic questions and seven online standardized scales. After the course ended, participants were asked to complete the same seven measures as well as three questions assessing general attitudes toward the course.\n",
      "Results:  Of the 40 students who participated in the study, most were women (87%), third-year or above (71%), from the Faculties of AHS (56%) or Arts (31%), and had a mean age of 20.9). Ten participants completed measures at both T1 and T2.  Despite low power, within-subject analysis showed that students made significant (p<.05) gains from T1 to T2, with a large effect size (d = .85) in terms of attitudes toward seeking mental health services. Feedback on the course was largely very positive, both in students� ratings and in their text comments.\n",
      "\n",
      "\n",
      "\n",
      "\n",
      "\n",
      "Altered working memory capacity for social threat words in high versus low social anxiety\tTalk\t2019-INS\tINS\t2019-2-23\t\"New York, NY\"\t\t\"Differences in working memory capacity may lead to preferential maintenance of socially threatening material in individuals with high social anxiety. Here we used word span tasks, adapted from the digit span task, to assess working memory capacity for material of varying threat-relatedness, in individuals with high or low social anxiety. Our findings suggest that individuals high in social anxiety may fail to upregulate working memory capacity for social information due to the activation of socially threatening concepts.\"\t\"Objective: Differences in working memory capacity have been suggested in individuals with high levels of social anxiety. Specifically, they may preferentially maintain socially threatening material in working memory. Here we used a series of word span tasks, adapted from the digit span task, to assess working memory capacity for material of varying threat-relatedness, in individuals either high or low in social anxiety.\n",
      "Participants and Methods: In Experiment 1, 80 undergraduates were recruited (40 low social anxiety, 40 high social anxiety). Participants performed span tasks with words that were either neutral (e.g., \"\"errand\"\"), generally threatening (e.g., \"\"abuse\"\"), or socially threatening (e.g., \"\"party\"\"). In Experiment 2, another 80 undergraduates were recruited (40 low social anxiety, 40 high social anxiety). Participants performed the same span tasks with the addition of a fourth word list that was both neutral and matched to the socially threatening word list in terms of semantic similarity.\n",
      "Results: Experiment 1 revealed reduced working memory capacity for socially threatening words in those with high compared to low social anxiety. Importantly, this relative reduction in working memory capacity was driven by the low social anxiety group showing expanded capacity for socially threatening words relative to neutral or generally threatening words. Furthermore, reductions in working memory capacity for social threat were uniquely predicted by social anxiety, and not by other theoretically similar constructs such as state general anxiety, trait general anxiety, or depression. Experiment 2 showed that the semantic similarity of the words was not responsible for the differences in working memory capacity between list type or social anxiety group.\n",
      "\n",
      "\n",
      "Social anxiety enhances recognition of task- irrelevant threat words\tTalk\t2018-TAMeG\tTAMeG\t2018-5-15\t\"Toronto, ON\"\t\t\"Are highly socially anxious people easily distracted in general, or is this bias specific to socially threatening material? In a simultaneous target-distractor paradigm, we investigated if memory for targets and distractors was affected by threat-relatedness. We found that emory bias is specific to threat-related distractors in high social anxiety. When social anxiety is primed, attention and memory may be specifically heightened for irrelevant, socially threatening information.\"\t"
     ]
    }
   ],
   "metadata": {
    "collapsed": false
   }
  },
  {
   "cell_type": "markdown",
   "source": [
    "## Import TSV\n",
    "\n",
    "Pandas makes this easy with the read_csv function. We are using a TSV, so we specify the separator as a tab, or `\\t`.\n",
    "\n",
    "I found it important to put this data in a tab-separated values format, because there are a lot of commas in this kind of data and comma-separated values can get messed up. However, you can modify the import statement, as pandas also has read_excel(), read_json(), and others."
   ],
   "metadata": {}
  },
  {
   "cell_type": "code",
   "execution_count": 3,
   "source": [
    "talks = pd.read_csv(\"talks.tsv\", sep=\"\\t\", header=0)\n",
    "talks"
   ],
   "outputs": [
    {
     "output_type": "execute_result",
     "data": {
      "text/html": [
       "<div>\n",
       "<style scoped>\n",
       "    .dataframe tbody tr th:only-of-type {\n",
       "        vertical-align: middle;\n",
       "    }\n",
       "\n",
       "    .dataframe tbody tr th {\n",
       "        vertical-align: top;\n",
       "    }\n",
       "\n",
       "    .dataframe thead th {\n",
       "        text-align: right;\n",
       "    }\n",
       "</style>\n",
       "<table border=\"1\" class=\"dataframe\">\n",
       "  <thead>\n",
       "    <tr style=\"text-align: right;\">\n",
       "      <th></th>\n",
       "      <th>title</th>\n",
       "      <th>type</th>\n",
       "      <th>url_slug</th>\n",
       "      <th>venue</th>\n",
       "      <th>date</th>\n",
       "      <th>location</th>\n",
       "      <th>talk_url</th>\n",
       "      <th>description</th>\n",
       "      <th>full_abstract</th>\n",
       "    </tr>\n",
       "  </thead>\n",
       "  <tbody>\n",
       "    <tr>\n",
       "      <th>0</th>\n",
       "      <td>What are recurrent memories about? Understandi...</td>\n",
       "      <td>Talk</td>\n",
       "      <td>2021-CSBBCS</td>\n",
       "      <td>CSBBCS</td>\n",
       "      <td>2021-6-17</td>\n",
       "      <td>Montr�al, QC</td>\n",
       "      <td>NaN</td>\n",
       "      <td>Researchers debate whether recurrent involunta...</td>\n",
       "      <td>Researchers debate whether recurrent involunta...</td>\n",
       "    </tr>\n",
       "    <tr>\n",
       "      <th>1</th>\n",
       "      <td>Assessing Waterloo�s first undergraduate cours...</td>\n",
       "      <td>Talk</td>\n",
       "      <td>2020-UWSMHR</td>\n",
       "      <td>University of Waterloo</td>\n",
       "      <td>2020-11-5</td>\n",
       "      <td>Waterloo, ON</td>\n",
       "      <td>https://web.archive.org/web/20210411054156/htt...</td>\n",
       "      <td>Does completion of a course on MHL have an eff...</td>\n",
       "      <td>Purpose: In Winter 2020, the University of Wat...</td>\n",
       "    </tr>\n",
       "    <tr>\n",
       "      <th>2</th>\n",
       "      <td>University of Waterloo�s undergraduate course ...</td>\n",
       "      <td>Talk</td>\n",
       "      <td>2020-CICMH</td>\n",
       "      <td>Centre for Innovation in Campus Mental Health</td>\n",
       "      <td>2020-11-3</td>\n",
       "      <td>Toronto, ON</td>\n",
       "      <td>NaN</td>\n",
       "      <td>We describe the design and evaluation of the U...</td>\n",
       "      <td>In this evidence-informed session, we describe...</td>\n",
       "    </tr>\n",
       "    <tr>\n",
       "      <th>3</th>\n",
       "      <td>Anxiety-provoking context scenes can reduce th...</td>\n",
       "      <td>Talk*</td>\n",
       "      <td>2019b-CSBBCS</td>\n",
       "      <td>CSBBCS</td>\n",
       "      <td>2019-6-9</td>\n",
       "      <td>Waterloo, ON</td>\n",
       "      <td>NaN</td>\n",
       "      <td>Reinstating the same context from encoding dur...</td>\n",
       "      <td>Reinstating the same context during retrieval,...</td>\n",
       "    </tr>\n",
       "    <tr>\n",
       "      <th>4</th>\n",
       "      <td>From tea cakes to trauma: Bridging gaps betwee...</td>\n",
       "      <td>Talk</td>\n",
       "      <td>2019a-CSBBCS</td>\n",
       "      <td>CSBBCS</td>\n",
       "      <td>2019-6-8</td>\n",
       "      <td>Waterloo, ON</td>\n",
       "      <td>NaN</td>\n",
       "      <td>We investigated the properties of recurrent IA...</td>\n",
       "      <td>Memories of one�s personal past that come to m...</td>\n",
       "    </tr>\n",
       "    <tr>\n",
       "      <th>5</th>\n",
       "      <td>From tea cakes to trauma: Bridging gaps betwee...</td>\n",
       "      <td>Talk</td>\n",
       "      <td>2019-TAMeG</td>\n",
       "      <td>TAMeG</td>\n",
       "      <td>2019-5-14</td>\n",
       "      <td>Toronto, ON</td>\n",
       "      <td>NaN</td>\n",
       "      <td>Are recurrent memories common in the general p...</td>\n",
       "      <td>NaN</td>\n",
       "    </tr>\n",
       "    <tr>\n",
       "      <th>6</th>\n",
       "      <td>Altered working memory capacity for social thr...</td>\n",
       "      <td>Talk</td>\n",
       "      <td>2019-INS</td>\n",
       "      <td>INS</td>\n",
       "      <td>2019-2-23</td>\n",
       "      <td>New York, NY</td>\n",
       "      <td>NaN</td>\n",
       "      <td>Differences in working memory capacity may lea...</td>\n",
       "      <td>Objective: Differences in working memory capac...</td>\n",
       "    </tr>\n",
       "    <tr>\n",
       "      <th>7</th>\n",
       "      <td>Bias in long-term and working memory in indivi...</td>\n",
       "      <td>Talk*</td>\n",
       "      <td>2018-MDRS</td>\n",
       "      <td>MDRS</td>\n",
       "      <td>2018-10-6</td>\n",
       "      <td>Toronto, ON</td>\n",
       "      <td>NaN</td>\n",
       "      <td>Do individuals with high social anxiety show a...</td>\n",
       "      <td>NaN</td>\n",
       "    </tr>\n",
       "    <tr>\n",
       "      <th>8</th>\n",
       "      <td>Social anxiety enhances recognition of task- i...</td>\n",
       "      <td>Talk</td>\n",
       "      <td>2018-TAMeG</td>\n",
       "      <td>TAMeG</td>\n",
       "      <td>2018-5-15</td>\n",
       "      <td>Toronto, ON</td>\n",
       "      <td>NaN</td>\n",
       "      <td>Are highly socially anxious people easily dist...</td>\n",
       "      <td>NaN</td>\n",
       "    </tr>\n",
       "  </tbody>\n",
       "</table>\n",
       "</div>"
      ],
      "text/plain": [
       "                                               title   type      url_slug  \\\n",
       "0  What are recurrent memories about? Understandi...   Talk   2021-CSBBCS   \n",
       "1  Assessing Waterloo�s first undergraduate cours...   Talk   2020-UWSMHR   \n",
       "2  University of Waterloo�s undergraduate course ...   Talk    2020-CICMH   \n",
       "3  Anxiety-provoking context scenes can reduce th...  Talk*  2019b-CSBBCS   \n",
       "4  From tea cakes to trauma: Bridging gaps betwee...   Talk  2019a-CSBBCS   \n",
       "5  From tea cakes to trauma: Bridging gaps betwee...   Talk    2019-TAMeG   \n",
       "6  Altered working memory capacity for social thr...   Talk      2019-INS   \n",
       "7  Bias in long-term and working memory in indivi...  Talk*     2018-MDRS   \n",
       "8  Social anxiety enhances recognition of task- i...   Talk    2018-TAMeG   \n",
       "\n",
       "                                           venue       date      location  \\\n",
       "0                                         CSBBCS  2021-6-17  Montr�al, QC   \n",
       "1                         University of Waterloo  2020-11-5  Waterloo, ON   \n",
       "2  Centre for Innovation in Campus Mental Health  2020-11-3   Toronto, ON   \n",
       "3                                         CSBBCS   2019-6-9  Waterloo, ON   \n",
       "4                                         CSBBCS   2019-6-8  Waterloo, ON   \n",
       "5                                          TAMeG  2019-5-14   Toronto, ON   \n",
       "6                                            INS  2019-2-23  New York, NY   \n",
       "7                                           MDRS  2018-10-6   Toronto, ON   \n",
       "8                                          TAMeG  2018-5-15   Toronto, ON   \n",
       "\n",
       "                                            talk_url  \\\n",
       "0                                                NaN   \n",
       "1  https://web.archive.org/web/20210411054156/htt...   \n",
       "2                                                NaN   \n",
       "3                                                NaN   \n",
       "4                                                NaN   \n",
       "5                                                NaN   \n",
       "6                                                NaN   \n",
       "7                                                NaN   \n",
       "8                                                NaN   \n",
       "\n",
       "                                         description  \\\n",
       "0  Researchers debate whether recurrent involunta...   \n",
       "1  Does completion of a course on MHL have an eff...   \n",
       "2  We describe the design and evaluation of the U...   \n",
       "3  Reinstating the same context from encoding dur...   \n",
       "4  We investigated the properties of recurrent IA...   \n",
       "5  Are recurrent memories common in the general p...   \n",
       "6  Differences in working memory capacity may lea...   \n",
       "7  Do individuals with high social anxiety show a...   \n",
       "8  Are highly socially anxious people easily dist...   \n",
       "\n",
       "                                       full_abstract  \n",
       "0  Researchers debate whether recurrent involunta...  \n",
       "1  Purpose: In Winter 2020, the University of Wat...  \n",
       "2  In this evidence-informed session, we describe...  \n",
       "3  Reinstating the same context during retrieval,...  \n",
       "4  Memories of one�s personal past that come to m...  \n",
       "5                                                NaN  \n",
       "6  Objective: Differences in working memory capac...  \n",
       "7                                                NaN  \n",
       "8                                                NaN  "
      ]
     },
     "metadata": {},
     "execution_count": 3
    }
   ],
   "metadata": {
    "collapsed": false,
    "deletable": true,
    "editable": true
   }
  },
  {
   "cell_type": "markdown",
   "source": [
    "## Escape special characters\n",
    "\n",
    "YAML is very picky about how it takes a valid string, so we are replacing single and double quotes (and ampersands) with their HTML encoded equivilents. This makes them look not so readable in raw format, but they are parsed and rendered nicely."
   ],
   "metadata": {}
  },
  {
   "cell_type": "code",
   "execution_count": 4,
   "source": [
    "html_escape_table = {\n",
    "    \"&\": \"&amp;\",\n",
    "    '\"': \"&quot;\",\n",
    "    \"'\": \"&apos;\"\n",
    "    }\n",
    "\n",
    "def html_escape(text):\n",
    "    if type(text) is str:\n",
    "        return \"\".join(html_escape_table.get(c,c) for c in text)\n",
    "    else:\n",
    "        return \"False\""
   ],
   "outputs": [],
   "metadata": {
    "collapsed": false,
    "deletable": true,
    "editable": true
   }
  },
  {
   "cell_type": "markdown",
   "source": [
    "## Creating the markdown files\n",
    "\n",
    "This is where the heavy lifting is done. This loops through all the rows in the TSV dataframe, then starts to concatentate a big string (```md```) that contains the markdown for each type. It does the YAML metadata first, then does the description for the individual page."
   ],
   "metadata": {}
  },
  {
   "cell_type": "code",
   "execution_count": 5,
   "source": [
    "loc_dict = {}\n",
    "\n",
    "for row, item in talks.iterrows():\n",
    "    \n",
    "    md_filename = str(item.date) + \"-\" + item.url_slug + \".md\"\n",
    "    html_filename = str(item.date) + \"-\" + item.url_slug \n",
    "    year = item.date[:4]\n",
    "    \n",
    "    md = \"---\\ntitle: \\\"\"   + item.title + '\"\\n'\n",
    "    md += \"collection: talks\" + \"\\n\"\n",
    "    \n",
    "    if len(str(item.type)) > 3:\n",
    "        md += 'type: \"' + item.type + '\"\\n'\n",
    "    else:\n",
    "        md += 'type: \"Talk\"\\n'\n",
    "    \n",
    "    md += \"permalink: /talks/\" + html_filename + \"\\n\"\n",
    "    \n",
    "    if len(str(item.venue)) > 3:\n",
    "        md += 'venue: \"' + item.venue + '\"\\n'\n",
    "        \n",
    "    if len(str(item.location)) > 3:\n",
    "        md += \"date: \" + str(item.date) + \"\\n\"\n",
    "    \n",
    "    if len(str(item.location)) > 3:\n",
    "        md += 'location: \"' + str(item.location) + '\"\\n'\n",
    "           \n",
    "    md += \"---\\n\"\n",
    "    \n",
    "    \n",
    "    if len(str(item.talk_url)) > 3:\n",
    "        md += \"\\n[More information here](\" + item.talk_url + \")\\n\" \n",
    "        \n",
    "    \n",
    "    if len(str(item.description)) > 3:\n",
    "        md += \"\\n\" + html_escape(item.description) + \"\\n\"\n",
    "        \n",
    "        \n",
    "    md_filename = os.path.basename(md_filename)\n",
    "    #print(md)\n",
    "    \n",
    "    with open(\"../_talks/\" + md_filename, 'w') as f:\n",
    "        f.write(md)"
   ],
   "outputs": [],
   "metadata": {
    "collapsed": false,
    "deletable": true,
    "editable": true
   }
  },
  {
   "cell_type": "markdown",
   "source": [
    "These files are in the talks directory, one directory below where we're working from."
   ],
   "metadata": {}
  },
  {
   "cell_type": "code",
   "execution_count": 6,
   "source": [
    "!ls ../_talks"
   ],
   "outputs": [
    {
     "output_type": "stream",
     "name": "stdout",
     "text": [
      "18-2018-MDRS.md          20-2020-CICMH.md         2019-6-8-2019a-CSBBCS.md\n",
      "18-2018-TAMeG.md         20-2020-UWSMHR.md        2019-6-9-2019b-CSBBCS.md\n",
      "19-2019-INS.md           2018-10-6-2018-MDRS.md   2020-11-3-2020-CICMH.md\n",
      "19-2019-TAMeG.md         2018-5-15-2018-TAMeG.md  2020-11-5-2020-UWSMHR.md\n",
      "19-2019a-CSBBCS.md       2019-2-23-2019-INS.md    2021-6-17-2021-CSBBCS.md\n",
      "19-2019b-CSBBCS.md       2019-5-14-2019-TAMeG.md  21-2021-CSBBCS.md\n"
     ]
    }
   ],
   "metadata": {
    "collapsed": false,
    "deletable": true,
    "editable": true
   }
  },
  {
   "cell_type": "code",
   "execution_count": 7,
   "source": [
    "!cat ../_talks/2013-03-01-tutorial-1.md"
   ],
   "outputs": [
    {
     "output_type": "stream",
     "name": "stdout",
     "text": [
      "cat: ../_talks/2013-03-01-tutorial-1.md: No such file or directory\n"
     ]
    }
   ],
   "metadata": {
    "collapsed": false,
    "deletable": true,
    "editable": true
   }
  }
 ],
 "metadata": {
  "kernelspec": {
   "name": "python3",
   "display_name": "Python 3.8.8 64-bit ('py38_pandas24_numpy': conda)"
  },
  "language_info": {
   "codemirror_mode": {
    "name": "ipython",
    "version": 3
   },
   "file_extension": ".py",
   "mimetype": "text/x-python",
   "name": "python",
   "nbconvert_exporter": "python",
   "pygments_lexer": "ipython3",
   "version": "3.8.8"
  },
  "interpreter": {
   "hash": "b1339e594723c4cff47d9bac7a9e5fcd6c40bca5e5c8eab1b85cd3609a7509c1"
  }
 },
 "nbformat": 4,
 "nbformat_minor": 2
}